{
 "cells": [
  {
   "cell_type": "code",
   "execution_count": null,
   "metadata": {},
   "outputs": [
    {
     "ename": "",
     "evalue": "",
     "output_type": "error",
     "traceback": [
      "\u001b[1;31mFailed to start the Kernel. \n",
      "Unable to start Kernel 'Slicer 5.0' due to connection timeout. \n",
      "View Jupyter <a href='command:jupyter.viewOutput'>log</a> for further details."
     ]
    }
   ],
   "source": [
    "1+2"
   ]
  },
  {
   "cell_type": "code",
   "execution_count": 6,
   "metadata": {},
   "outputs": [
    {
     "ename": "NameError",
     "evalue": "name 'getNode' is not defined",
     "output_type": "error",
     "traceback": [
      "\u001b[0;31m---------------------------------------------------------------------------\u001b[0m",
      "\u001b[0;31mNameError\u001b[0m                                 Traceback (most recent call last)",
      "\u001b[1;32m/workspaces/slicerModifB/testJup.ipynb Cell 2'\u001b[0m in \u001b[0;36m<cell line: 21>\u001b[0;34m()\u001b[0m\n\u001b[1;32m     <a href='vscode-notebook-cell://dev-container%2B2f686f6d652f6a616b75622f70726f6a656374732f736c696365724d6f64696642/workspaces/slicerModifB/testJup.ipynb#ch0000001vscode-remote?line=17'>18</a>\u001b[0m   slicer\u001b[39m.\u001b[39mmrmlScene\u001b[39m.\u001b[39mRemoveNode(cliNode)\n\u001b[1;32m     <a href='vscode-notebook-cell://dev-container%2B2f686f6d652f6a616b75622f70726f6a656374732f736c696365724d6f64696642/workspaces/slicerModifB/testJup.ipynb#ch0000001vscode-remote?line=18'>19</a>\u001b[0m   \u001b[39mreturn\u001b[39;00m outputModelNode\n\u001b[0;32m---> <a href='vscode-notebook-cell://dev-container%2B2f686f6d652f6a616b75622f70726f6a656374732f736c696365724d6f64696642/workspaces/slicerModifB/testJup.ipynb#ch0000001vscode-remote?line=20'>21</a>\u001b[0m volumeNode \u001b[39m=\u001b[39m getNode(\u001b[39m'\u001b[39m\u001b[39mMRHead\u001b[39m\u001b[39m'\u001b[39m)\n\u001b[1;32m     <a href='vscode-notebook-cell://dev-container%2B2f686f6d652f6a616b75622f70726f6a656374732f736c696365724d6f64696642/workspaces/slicerModifB/testJup.ipynb#ch0000001vscode-remote?line=21'>22</a>\u001b[0m modelNode \u001b[39m=\u001b[39m createModelFromVolume(volumeNode)\n",
      "\u001b[0;31mNameError\u001b[0m: name 'getNode' is not defined"
     ]
    }
   ],
   "source": [
    "import SampleData\n",
    "nodeToClone = SampleData.SampleDataLogic().downloadMRHead()"
   ]
  }
 ],
 "metadata": {
  "interpreter": {
   "hash": "8797f066eb6ed892db01c91c9e96431b68e22c7e8f019a80ddc4edb16ecda908"
  },
  "kernelspec": {
   "display_name": "Slicer 5.0",
   "language": "python",
   "name": "slicer-5.0"
  },
  "language_info": {
   "codemirror_mode": {
    "name": "ipython",
    "version": 3
   },
   "file_extension": ".py",
   "mimetype": "text/x-python",
   "name": "python",
   "nbconvert_exporter": "python",
   "pygments_lexer": "ipython3",
   "version": "3.9.10"
  },
  "orig_nbformat": 4
 },
 "nbformat": 4,
 "nbformat_minor": 2
}
